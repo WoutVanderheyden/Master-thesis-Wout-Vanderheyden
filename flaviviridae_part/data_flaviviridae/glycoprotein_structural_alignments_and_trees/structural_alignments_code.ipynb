{
 "cells": [
  {
   "cell_type": "code",
   "execution_count": 54,
   "id": "0b308db7",
   "metadata": {},
   "outputs": [],
   "source": [
    "#dependencies\n",
    "\n",
    "from Bio import SeqIO\n",
    "import pandas as pd\n",
    "\n",
    "\n",
    "from Bio import Entrez\n",
    "import statistics\n",
    "import re\n",
    "import collections\n",
    "import ete3\n",
    "import itertools\n",
    "\n",
    "\n",
    "\n",
    "import os"
   ]
  },
  {
   "cell_type": "code",
   "execution_count": 52,
   "id": "e68377dd",
   "metadata": {},
   "outputs": [],
   "source": [
    "#from zenodo\n",
    "foldseek_f = '/flaviviridae_foldseek_output/Flaviviridae_Foldseek_Results.tsv'\n"
   ]
  },
  {
   "cell_type": "code",
   "execution_count": 53,
   "id": "74720cf8",
   "metadata": {},
   "outputs": [],
   "source": [
    "def combalign(combrefal, reftoal, outfile):\n",
    "\n",
    "    fasta = ''\n",
    "\n",
    "    for rec in SeqIO.parse(combrefal, 'fasta'):\n",
    "\n",
    "        thishseq = str(rec.seq)\n",
    "        #find where the hit's reference match fits into the full ref protein\n",
    "        thematch = re.search(thishseq.replace('-', ''), pdbparse('ref_structures/%s'%rec.id))\n",
    "\n",
    "        dashes = [m.start() for m in re.finditer(\"-\", thishseq)]\n",
    "\n",
    "        # print(alpos)\n",
    "        print(thematch)\n",
    "\n",
    "        for alrec in SeqIO.parse(reftoal[rec.id], 'fasta'):\n",
    "            if alrec.id.split('|')[0] not in fasta:\n",
    "                theseq = str(alrec.seq)\n",
    "                #keep only the matching bit of the reference alignment \n",
    "                theseq = theseq[thematch.start():thematch.end()]\n",
    "\n",
    "                for d in dashes:\n",
    "                    theseq = theseq[:d] + '-' +  theseq[d:]\n",
    "                if set(theseq) != {'-'}:\n",
    "                    fasta = fasta + '>%s\\n%s\\n'%(alrec.id, theseq)\n",
    "\n",
    "\n",
    "    with open(outfile, 'w') as out:\n",
    "        out.write(fasta[:-1])"
   ]
  },
  {
   "attachments": {},
   "cell_type": "markdown",
   "id": "7353a41b",
   "metadata": {},
   "source": [
    "# Use foldseek reference alignments | final foldseek search \n",
    "\n",
    "The foldseek results dataframe used here (`Foldseek_020424.tsv`) was produced with: `foldseek easy-search Mifsud_2024_Data/structures Mifsud_2024_Data/reference_structures Foldseek_020424.tsv tmp --format-output \"query,target,alnlen,fident,qaln,taln,evalue,bits,prob,lddt,alntmscore\" --exhaustive-search -e 0.1`"
   ]
  },
  {
   "cell_type": "code",
   "execution_count": 4,
   "id": "bfc4e2dd",
   "metadata": {},
   "outputs": [],
   "source": [
    "foldsall = pd.read_csv(foldseek_f, sep='\\t')\n",
    "foldsall.columns = ['query', 'hit', 'len', 'fident', 'qseq', 'hseq', 'eval', 'bits', 'prob', 'lddt', 'alntmscore']"
   ]
  },
  {
   "cell_type": "code",
   "execution_count": 5,
   "id": "072a6b52",
   "metadata": {
    "scrolled": false
   },
   "outputs": [
    {
     "data": {
      "text/html": [
       "<div>\n",
       "<style scoped>\n",
       "    .dataframe tbody tr th:only-of-type {\n",
       "        vertical-align: middle;\n",
       "    }\n",
       "\n",
       "    .dataframe tbody tr th {\n",
       "        vertical-align: top;\n",
       "    }\n",
       "\n",
       "    .dataframe thead th {\n",
       "        text-align: right;\n",
       "    }\n",
       "</style>\n",
       "<table border=\"1\" class=\"dataframe\">\n",
       "  <thead>\n",
       "    <tr style=\"text-align: right;\">\n",
       "      <th></th>\n",
       "      <th>query</th>\n",
       "      <th>hit</th>\n",
       "      <th>len</th>\n",
       "      <th>fident</th>\n",
       "      <th>qseq</th>\n",
       "      <th>hseq</th>\n",
       "      <th>eval</th>\n",
       "      <th>bits</th>\n",
       "      <th>prob</th>\n",
       "      <th>lddt</th>\n",
       "      <th>alntmscore</th>\n",
       "    </tr>\n",
       "  </thead>\n",
       "  <tbody>\n",
       "    <tr>\n",
       "      <th>0</th>\n",
       "      <td>HPHV_Hepatitis_C_virus_genotype_1_block_4_Alph...</td>\n",
       "      <td>HPHV_E2_HCV_NC_004102.pdb</td>\n",
       "      <td>298</td>\n",
       "      <td>1.000</td>\n",
       "      <td>LLTPGAKQNIQLINTNGSWHINSTALNCNESLNTGWLAGLFYQHKF...</td>\n",
       "      <td>LLTPGAKQNIQLINTNGSWHINSTALNCNESLNTGWLAGLFYQHKF...</td>\n",
       "      <td>5.020000e-60</td>\n",
       "      <td>2134</td>\n",
       "      <td>1.000</td>\n",
       "      <td>0.869</td>\n",
       "      <td>0.951</td>\n",
       "    </tr>\n",
       "    <tr>\n",
       "      <th>1</th>\n",
       "      <td>HPPV_Bat_pegivirus_PDB-303_block_2_AlphaFold.pdb</td>\n",
       "      <td>HPPV_E2_BPV_KC796073.pdb</td>\n",
       "      <td>280</td>\n",
       "      <td>1.000</td>\n",
       "      <td>RFPGFDECDCTGRGFTRSNNTQVCICPFGSLVWQGREARQKLSWAQ...</td>\n",
       "      <td>RFPGFDECDCTGRGFTRSNNTQVCICPFGSLVWQGREARQKLSWAQ...</td>\n",
       "      <td>2.670000e-59</td>\n",
       "      <td>2006</td>\n",
       "      <td>1.000</td>\n",
       "      <td>0.835</td>\n",
       "      <td>0.922</td>\n",
       "    </tr>\n",
       "    <tr>\n",
       "      <th>2</th>\n",
       "      <td>HPPV_Hepatitis_GB_virus_A_block_3_AlphaFold.pdb</td>\n",
       "      <td>HPPV_E2_GBV-A_NC_001837.pdb</td>\n",
       "      <td>294</td>\n",
       "      <td>1.000</td>\n",
       "      <td>GNGTVVCECDFGKMHWAPKLCSGLLWRDGAREGTVWTLPRVCPREV...</td>\n",
       "      <td>GNGTVVCECDFGKMHWAPKLCSGLLWRDGAREGTVWTLPRVCPREV...</td>\n",
       "      <td>2.390000e-57</td>\n",
       "      <td>2047</td>\n",
       "      <td>1.000</td>\n",
       "      <td>0.854</td>\n",
       "      <td>0.919</td>\n",
       "    </tr>\n",
       "    <tr>\n",
       "      <th>3</th>\n",
       "      <td>PLPV_Linda_virus_strain_Austria1_block_7_Alpha...</td>\n",
       "      <td>PLPV_E2_LPV_NC_035432.pdb</td>\n",
       "      <td>296</td>\n",
       "      <td>1.000</td>\n",
       "      <td>LECNFELQYALAGNTSMSLLGPTALKTQWYQAADGVKITDGVVTVI...</td>\n",
       "      <td>LECNFELQYALAGNTSMSLLGPTALKTQWYQAADGVKITDGVVTVI...</td>\n",
       "      <td>1.240000e-56</td>\n",
       "      <td>2382</td>\n",
       "      <td>1.000</td>\n",
       "      <td>0.948</td>\n",
       "      <td>0.957</td>\n",
       "    </tr>\n",
       "    <tr>\n",
       "      <th>4</th>\n",
       "      <td>PLPV_Pestivirus_giraffe-1_H138_block_7_AlphaFo...</td>\n",
       "      <td>PLPV_E2_GPV_NC_003678.pdb</td>\n",
       "      <td>300</td>\n",
       "      <td>1.000</td>\n",
       "      <td>ARSKRIGPLGAEDLVTTWHDYKFDLKIQDPLVMVYCKNDQFFVGKR...</td>\n",
       "      <td>ARSKRIGPLGAEDLVTTWHDYKFDLKIQDPLVMVYCKNDQFFVGKR...</td>\n",
       "      <td>1.030000e-55</td>\n",
       "      <td>2400</td>\n",
       "      <td>1.000</td>\n",
       "      <td>0.978</td>\n",
       "      <td>0.977</td>\n",
       "    </tr>\n",
       "    <tr>\n",
       "      <th>...</th>\n",
       "      <td>...</td>\n",
       "      <td>...</td>\n",
       "      <td>...</td>\n",
       "      <td>...</td>\n",
       "      <td>...</td>\n",
       "      <td>...</td>\n",
       "      <td>...</td>\n",
       "      <td>...</td>\n",
       "      <td>...</td>\n",
       "      <td>...</td>\n",
       "      <td>...</td>\n",
       "    </tr>\n",
       "    <tr>\n",
       "      <th>78683</th>\n",
       "      <td>HPHV_Xiamen_sepia_Stingray_hepacivirus_block_7...</td>\n",
       "      <td>HPHV_E2_BHV_NC_031947.pdb</td>\n",
       "      <td>163</td>\n",
       "      <td>0.171</td>\n",
       "      <td>PGHTLERCFYGRQLNPHINATI-----LGPNPSH----AIRTGGV-...</td>\n",
       "      <td>PRATFTLCGQGPWISPTALIKYPMAHVHWPQVAEYGEYTIRFSSSL...</td>\n",
       "      <td>1.000000e-01</td>\n",
       "      <td>36</td>\n",
       "      <td>0.150</td>\n",
       "      <td>0.401</td>\n",
       "      <td>0.293</td>\n",
       "    </tr>\n",
       "    <tr>\n",
       "      <th>78684</th>\n",
       "      <td>HPHV_Xiamen_sepia_Stingray_hepacivirus_block_7...</td>\n",
       "      <td>HPHV_E2_HVF_NC_038427.pdb</td>\n",
       "      <td>138</td>\n",
       "      <td>0.224</td>\n",
       "      <td>NPHINATI--LGPNPS---HAIRTG-GVLVAVNCH------TTPPF...</td>\n",
       "      <td>TPVAMLDVPGQYWGPQWRRSSIILSHGFQIGYWFNEELLGELAPSH...</td>\n",
       "      <td>1.000000e-01</td>\n",
       "      <td>30</td>\n",
       "      <td>0.090</td>\n",
       "      <td>0.358</td>\n",
       "      <td>0.223</td>\n",
       "    </tr>\n",
       "    <tr>\n",
       "      <th>78685</th>\n",
       "      <td>PLPV_Pangolin_pestivirus_1_isolate_ZJ-F1_block...</td>\n",
       "      <td>FJTB_NS5_MTase_7V1E.pdb</td>\n",
       "      <td>186</td>\n",
       "      <td>0.129</td>\n",
       "      <td>LDSI-VMRLSKMQ---------RGEFKQV---------------TL...</td>\n",
       "      <td>LGDLWKRRLNNCTKEEFFAYRRTGILETERDKARELLRKGETNMGL...</td>\n",
       "      <td>1.000000e-01</td>\n",
       "      <td>26</td>\n",
       "      <td>0.063</td>\n",
       "      <td>0.299</td>\n",
       "      <td>0.290</td>\n",
       "    </tr>\n",
       "    <tr>\n",
       "      <th>78686</th>\n",
       "      <td>HPPV_Bat_pegivirus_PDB-694_block_3_AlphaFold.pdb</td>\n",
       "      <td>PLPV_E2_PAPeV_NC_024018.pdb</td>\n",
       "      <td>202</td>\n",
       "      <td>0.118</td>\n",
       "      <td>ACGVGQQ-LTTFLTAIPATLADPVSNQPWIGRKPENPGVKGPILDF...</td>\n",
       "      <td>RLYDTRPCKEKAFTFSPA------------GE--------------...</td>\n",
       "      <td>1.000000e-01</td>\n",
       "      <td>30</td>\n",
       "      <td>0.090</td>\n",
       "      <td>0.386</td>\n",
       "      <td>0.295</td>\n",
       "    </tr>\n",
       "    <tr>\n",
       "      <th>78687</th>\n",
       "      <td>PLPV_Tunisian_small_ruminant_pestivirus_strain...</td>\n",
       "      <td>HPHV_E1_RRHV_MZ393518.pdb</td>\n",
       "      <td>210</td>\n",
       "      <td>0.114</td>\n",
       "      <td>QSPYCNVTRKIGYIWY-TNNCTPACLPKN-------TKIIGPGKFD...</td>\n",
       "      <td>QVHYCT-----NATCVHDMGCV-ICQDGNETTPATCWVPLGPLVSV...</td>\n",
       "      <td>1.000000e-01</td>\n",
       "      <td>29</td>\n",
       "      <td>0.082</td>\n",
       "      <td>0.476</td>\n",
       "      <td>0.228</td>\n",
       "    </tr>\n",
       "  </tbody>\n",
       "</table>\n",
       "<p>78688 rows × 11 columns</p>\n",
       "</div>"
      ],
      "text/plain": [
       "                                                   query  \\\n",
       "0      HPHV_Hepatitis_C_virus_genotype_1_block_4_Alph...   \n",
       "1       HPPV_Bat_pegivirus_PDB-303_block_2_AlphaFold.pdb   \n",
       "2        HPPV_Hepatitis_GB_virus_A_block_3_AlphaFold.pdb   \n",
       "3      PLPV_Linda_virus_strain_Austria1_block_7_Alpha...   \n",
       "4      PLPV_Pestivirus_giraffe-1_H138_block_7_AlphaFo...   \n",
       "...                                                  ...   \n",
       "78683  HPHV_Xiamen_sepia_Stingray_hepacivirus_block_7...   \n",
       "78684  HPHV_Xiamen_sepia_Stingray_hepacivirus_block_7...   \n",
       "78685  PLPV_Pangolin_pestivirus_1_isolate_ZJ-F1_block...   \n",
       "78686   HPPV_Bat_pegivirus_PDB-694_block_3_AlphaFold.pdb   \n",
       "78687  PLPV_Tunisian_small_ruminant_pestivirus_strain...   \n",
       "\n",
       "                               hit  len  fident  \\\n",
       "0        HPHV_E2_HCV_NC_004102.pdb  298   1.000   \n",
       "1         HPPV_E2_BPV_KC796073.pdb  280   1.000   \n",
       "2      HPPV_E2_GBV-A_NC_001837.pdb  294   1.000   \n",
       "3        PLPV_E2_LPV_NC_035432.pdb  296   1.000   \n",
       "4        PLPV_E2_GPV_NC_003678.pdb  300   1.000   \n",
       "...                            ...  ...     ...   \n",
       "78683    HPHV_E2_BHV_NC_031947.pdb  163   0.171   \n",
       "78684    HPHV_E2_HVF_NC_038427.pdb  138   0.224   \n",
       "78685      FJTB_NS5_MTase_7V1E.pdb  186   0.129   \n",
       "78686  PLPV_E2_PAPeV_NC_024018.pdb  202   0.118   \n",
       "78687    HPHV_E1_RRHV_MZ393518.pdb  210   0.114   \n",
       "\n",
       "                                                    qseq  \\\n",
       "0      LLTPGAKQNIQLINTNGSWHINSTALNCNESLNTGWLAGLFYQHKF...   \n",
       "1      RFPGFDECDCTGRGFTRSNNTQVCICPFGSLVWQGREARQKLSWAQ...   \n",
       "2      GNGTVVCECDFGKMHWAPKLCSGLLWRDGAREGTVWTLPRVCPREV...   \n",
       "3      LECNFELQYALAGNTSMSLLGPTALKTQWYQAADGVKITDGVVTVI...   \n",
       "4      ARSKRIGPLGAEDLVTTWHDYKFDLKIQDPLVMVYCKNDQFFVGKR...   \n",
       "...                                                  ...   \n",
       "78683  PGHTLERCFYGRQLNPHINATI-----LGPNPSH----AIRTGGV-...   \n",
       "78684  NPHINATI--LGPNPS---HAIRTG-GVLVAVNCH------TTPPF...   \n",
       "78685  LDSI-VMRLSKMQ---------RGEFKQV---------------TL...   \n",
       "78686  ACGVGQQ-LTTFLTAIPATLADPVSNQPWIGRKPENPGVKGPILDF...   \n",
       "78687  QSPYCNVTRKIGYIWY-TNNCTPACLPKN-------TKIIGPGKFD...   \n",
       "\n",
       "                                                    hseq          eval  bits  \\\n",
       "0      LLTPGAKQNIQLINTNGSWHINSTALNCNESLNTGWLAGLFYQHKF...  5.020000e-60  2134   \n",
       "1      RFPGFDECDCTGRGFTRSNNTQVCICPFGSLVWQGREARQKLSWAQ...  2.670000e-59  2006   \n",
       "2      GNGTVVCECDFGKMHWAPKLCSGLLWRDGAREGTVWTLPRVCPREV...  2.390000e-57  2047   \n",
       "3      LECNFELQYALAGNTSMSLLGPTALKTQWYQAADGVKITDGVVTVI...  1.240000e-56  2382   \n",
       "4      ARSKRIGPLGAEDLVTTWHDYKFDLKIQDPLVMVYCKNDQFFVGKR...  1.030000e-55  2400   \n",
       "...                                                  ...           ...   ...   \n",
       "78683  PRATFTLCGQGPWISPTALIKYPMAHVHWPQVAEYGEYTIRFSSSL...  1.000000e-01    36   \n",
       "78684  TPVAMLDVPGQYWGPQWRRSSIILSHGFQIGYWFNEELLGELAPSH...  1.000000e-01    30   \n",
       "78685  LGDLWKRRLNNCTKEEFFAYRRTGILETERDKARELLRKGETNMGL...  1.000000e-01    26   \n",
       "78686  RLYDTRPCKEKAFTFSPA------------GE--------------...  1.000000e-01    30   \n",
       "78687  QVHYCT-----NATCVHDMGCV-ICQDGNETTPATCWVPLGPLVSV...  1.000000e-01    29   \n",
       "\n",
       "        prob   lddt  alntmscore  \n",
       "0      1.000  0.869       0.951  \n",
       "1      1.000  0.835       0.922  \n",
       "2      1.000  0.854       0.919  \n",
       "3      1.000  0.948       0.957  \n",
       "4      1.000  0.978       0.977  \n",
       "...      ...    ...         ...  \n",
       "78683  0.150  0.401       0.293  \n",
       "78684  0.090  0.358       0.223  \n",
       "78685  0.063  0.299       0.290  \n",
       "78686  0.090  0.386       0.295  \n",
       "78687  0.082  0.476       0.228  \n",
       "\n",
       "[78688 rows x 11 columns]"
      ]
     },
     "execution_count": 5,
     "metadata": {},
     "output_type": "execute_result"
    }
   ],
   "source": [
    "foldsall"
   ]
  },
  {
   "attachments": {},
   "cell_type": "markdown",
   "id": "4965e02a",
   "metadata": {},
   "source": [
    "The function below goes through the foldseek results of each query poyprotein matching a set of glycoprotein references (E1, E2, E), chooses the best reference protein for any of the polyprotein blocks (by bitscore) and uses that reference to get the start and end points of the corresponding glycoprotein within the polyprotein blocks. "
   ]
  },
  {
   "cell_type": "code",
   "execution_count": 9,
   "id": "b1f3e769",
   "metadata": {},
   "outputs": [],
   "source": [
    "def combine_blocks(foldseekdf, aafasf, protnams, prot, ecutoff, outf):\n",
    "    \n",
    "    #load full aa query seqs fasta\n",
    "    aaseqdic = SeqIO.to_dict(SeqIO.parse(aafasf, 'fasta'))\n",
    "    #replace unwanted characters to match foldseek rez\n",
    "    aaseqdic = {k.replace('/', '_'):v for k,v in aaseqdic.items()}\n",
    "\n",
    "    #eval cutoff and sort by bits on full df\n",
    "    foldsalleval = foldsall[foldsall['eval'] <ecutoff]\n",
    "    foldsalleval.sort_values(by='bits', inplace=True, ascending = False) \n",
    "\n",
    "    fas = ''\n",
    "\n",
    "    #for each unique query sequence sorted alphabetically\n",
    "    for q in sorted(list(set([x.split('_block_')[0] for x in list(foldsall['query']) if 'block' in x]))):\n",
    "        \n",
    "#         print(q)\n",
    "\n",
    "        #filter by each query virus\n",
    "        qhitsdf = foldsalleval[(foldsalleval['query'].str.contains(q + '_block_'))]\n",
    "\n",
    "        #filter by hit options (E1, E2, E)\n",
    "        qhitsdf = qhitsdf[qhitsdf.hit.str.contains(protnams)]\n",
    "\n",
    "        if len(qhitsdf) > 0:\n",
    "\n",
    "            #make a blocknam column with the query's block number (for overlaps later)\n",
    "            qhitsdf['blocknam'] = [int(x.split('_block_')[1].split('_')[0]) for x in list(qhitsdf['query'])]\n",
    "\n",
    "            #get the best hit\n",
    "            tophit = list(qhitsdf.hit)[0]\n",
    "            #and only keep rows matching to that\n",
    "            qhitsdf = qhitsdf[qhitsdf.hit == tophit]\n",
    "\n",
    "            #because we have both AF and ESMfold results in here I'm gonna drop duplicate blocknams and keep the one with highest bitscore\n",
    "            qhitsdf = qhitsdf.loc[qhitsdf.groupby('blocknam')['bits'].idxmax()]\n",
    "\n",
    "            #sort by blocknam to get start and end of full match\n",
    "            qhitsdf.sort_values(by='blocknam', inplace=True)\n",
    "            \n",
    "#             print(qhitsdf)\n",
    "\n",
    "            if q in list(aaseqdic):\n",
    "\n",
    "                #get query's full aa sequence from fasta file dic\n",
    "                fullqseq = str(aaseqdic[q].seq)\n",
    "                #need to remove Xs\n",
    "                fullqseq = fullqseq.replace('X', '')\n",
    "\n",
    "                stqseq = list(qhitsdf.qseq)[0]\n",
    "                endqseq = list(qhitsdf.qseq)[-1]\n",
    "\n",
    "    #             print(endqseq)\n",
    "                #find where the query seq alignment fits into the full query protein\n",
    "                stmatch = re.search(stqseq.replace('-', ''), fullqseq).start()\n",
    "                endmatch = re.search(endqseq.replace('-', ''), fullqseq).end()\n",
    "\n",
    "                #crop the protein match start to end\n",
    "                fullseqmatch = fullqseq[stmatch:endmatch]\n",
    "\n",
    "                head = '%s|%s|%i-%i'%(q, prot, stmatch+1, endmatch)\n",
    "\n",
    "                fas = fas + '>%s\\n%s\\n'%(head, fullseqmatch)\n",
    "            \n",
    "            else:\n",
    "                print(q)\n",
    "\n",
    "    with open(outf, 'w') as out:\n",
    "        out.write(fas[:-1])\n",
    "    "
   ]
  },
  {
   "cell_type": "code",
   "execution_count": 24,
   "id": "ff7167f8",
   "metadata": {
    "scrolled": true
   },
   "outputs": [
    {
     "name": "stderr",
     "output_type": "stream",
     "text": [
      "C:\\Users\\spyro\\AppData\\Local\\Temp\\ipykernel_28120\\546747922.py:10: SettingWithCopyWarning: \n",
      "A value is trying to be set on a copy of a slice from a DataFrame\n",
      "\n",
      "See the caveats in the documentation: https://pandas.pydata.org/pandas-docs/stable/user_guide/indexing.html#returning-a-view-versus-a-copy\n",
      "  foldsalleval.sort_values(by='bits', inplace=True, ascending = False)\n"
     ]
    }
   ],
   "source": [
    "combine_blocks(foldsall, '/sequences/full_genome_sequences/flaviviridae_protein_seqs.fasta', 'E1_REF|Envelope_1_|_E1_', 'E1', 0.001, 'Foldseek_020424_E1.fas')"
   ]
  },
  {
   "cell_type": "code",
   "execution_count": 25,
   "id": "1bc9e97b",
   "metadata": {},
   "outputs": [
    {
     "name": "stderr",
     "output_type": "stream",
     "text": [
      "C:\\Users\\spyro\\AppData\\Local\\Temp\\ipykernel_28120\\546747922.py:10: SettingWithCopyWarning: \n",
      "A value is trying to be set on a copy of a slice from a DataFrame\n",
      "\n",
      "See the caveats in the documentation: https://pandas.pydata.org/pandas-docs/stable/user_guide/indexing.html#returning-a-view-versus-a-copy\n",
      "  foldsalleval.sort_values(by='bits', inplace=True, ascending = False)\n"
     ]
    }
   ],
   "source": [
    "combine_blocks(foldsall, '/sequences/full_genome_sequences/flaviviridae_protein_seqs.fasta', 'E2_REF|Envelope_2_|_E2_', 'E2', 0.001, 'Foldseek_020424_E2.fas')"
   ]
  },
  {
   "cell_type": "code",
   "execution_count": 26,
   "id": "7040bf1c",
   "metadata": {
    "scrolled": false
   },
   "outputs": [
    {
     "name": "stderr",
     "output_type": "stream",
     "text": [
      "C:\\Users\\spyro\\AppData\\Local\\Temp\\ipykernel_28120\\546747922.py:10: SettingWithCopyWarning: \n",
      "A value is trying to be set on a copy of a slice from a DataFrame\n",
      "\n",
      "See the caveats in the documentation: https://pandas.pydata.org/pandas-docs/stable/user_guide/indexing.html#returning-a-view-versus-a-copy\n",
      "  foldsalleval.sort_values(by='bits', inplace=True, ascending = False)\n"
     ]
    },
    {
     "name": "stdout",
     "output_type": "stream",
     "text": [
      "PLLG_Flaviviridae_sp._isolate_TIGMIC_15\n",
      "PLLG_Flaviviridae_sp._isolate_TIGMIC_4\n",
      "PLUN_flavi_lake_water_ORF238_SRR7883614_orf_1\n"
     ]
    }
   ],
   "source": [
    "combine_blocks(foldsall, '/sequences/full_genome_sequences/flaviviridae_protein_seqs.fasta', 'E_REF|Envelope_|_E_', 'E', 0.001, 'Foldseek_020424_E.fas')"
   ]
  },
  {
   "attachments": {},
   "cell_type": "markdown",
   "id": "9edf2334",
   "metadata": {},
   "source": [
    "Take the resulting glycoprotein sequences  and fold them with ESMfold and ColabFold and get the best structure for each sequence\n",
    "\n",
    "<br> \n",
    "\n",
    "Recompiled famsa3di by changing the substitution matrix to the foldseek one as described in https://github.com/nmatzke/3diphy/blob/111d33bb30b79eb213dc129a7cdb7b7c6cdf9d5a/3DI_substmat/put_3di_into_FAMSA.R\n",
    "\n",
    "<br>\n",
    "\n",
    "Convert all best structures to 3di characters:\n",
    "\n",
    "`for f in refolded_fullglyco/*.pdb; do foldseek structureto3didescriptor $f 3di/${f%.*}.dump; done`\n",
    "\n",
    "put in single file\n",
    "\n",
    "`cd 3di/`\n",
    "\n",
    "`cat *.dump > refolded_fullglyco.dumpall`\n",
    "\n",
    "`rm *.dump *.dbtype`\n",
    "\n",
    "convert to fasta:\n",
    "\n",
    "`awk -F'\\t' '{print \">\"$1\"\\n\"$3; next}{print}' refolded_fullglyco.dumpall > refolded_fullglyco_3di.fas`\n",
    "\n",
    "`awk -F'\\t' '{print \">\"$1\"\\n\"$2; next}{print}' refolded_fullglyco.dumpall > refolded_fullglyco_aa.fas`\n",
    "\n",
    "\n",
    "Separate by glycoprotein:"
   ]
  },
  {
   "cell_type": "code",
   "execution_count": 4,
   "id": "e17ff009",
   "metadata": {},
   "outputs": [],
   "source": [
    "for g in ['E', 'E1', 'E2']:\n",
    "    \n",
    "    fasaa = '\\n'.join(['>%s\\n%s'%(rec.id, str(rec.seq)) for rec in SeqIO.parse('3di/refolded_fullglyco_aa.fas', 'fasta') if rec.id.split('_')[-3] == g])\n",
    "    fas3di = '\\n'.join(['>%s\\n%s'%(rec.id, str(rec.seq)) for rec in SeqIO.parse('3di/refolded_fullglyco_3di.fas', 'fasta') if rec.id.split('_')[-3] == g])\n",
    "    \n",
    "    with open('3di/refolded_fullglyco_%s_aa.fas'%g, 'w') as out:\n",
    "        out.write(fasaa)\n",
    "    with open('3di/refolded_fullglyco_%s_3di.fas'%g, 'w') as out:\n",
    "        out.write(fas3di)\n",
    "    "
   ]
  },
  {
   "cell_type": "code",
   "execution_count": 45,
   "id": "b141d7d5",
   "metadata": {},
   "outputs": [],
   "source": [
    "allnams = list(SeqIO.to_dict(SeqIO.parse('3di/refolded_fullglyco_aa.fas', 'fasta')))\n",
    "\n",
    "allnams = [x.split('_E_')[0] for x in allnams]\n",
    "allnams = [x.split('_E1_')[0] for x in allnams]\n",
    "allnams = [x.split('_E2_')[0] for x in allnams]\n",
    "\n",
    "allnams  = sorted(list(set(allnams)))\n",
    "\n",
    "with open('refolded_fullglyco/refolded_fullglyco_names.txt', 'w') as out:\n",
    "    out.write('\\n'.join(allnams))"
   ]
  },
  {
   "attachments": {},
   "cell_type": "markdown",
   "id": "41a3cafa",
   "metadata": {},
   "source": [
    "align with `famsa3di`:\n",
    "\n",
    "`famsa3di refolded_fullglyco_E_3di.fas refolded_fullglyco_E_3di_famsa.fas`\n",
    "\n",
    "\n",
    "<br>\n",
    "\n",
    "Now map AAs to 3di alignment and combine into AA+3di fasta file:"
   ]
  },
  {
   "cell_type": "code",
   "execution_count": 19,
   "id": "b699558e",
   "metadata": {},
   "outputs": [],
   "source": [
    "def aa_3di_convert(aafile, al3di, alout):\n",
    "    \n",
    "    unalaa_dic = SeqIO.to_dict(SeqIO.parse(aafile, 'fasta'))\n",
    "\n",
    "    aaalseq = ''\n",
    "\n",
    "    for rec in SeqIO.parse(al3di, 'fasta'):\n",
    "        c=0\n",
    "        diseq = str(rec.seq)\n",
    "        alaa = ''\n",
    "        for char in diseq:\n",
    "            if char == '-':\n",
    "                alaa = alaa + '-'\n",
    "            else:\n",
    "                alaa = alaa + str(unalaa_dic[rec.id].seq)[c]\n",
    "                c = c+1\n",
    "\n",
    "        aaalseq = aaalseq + '>%s\\n%s\\n'%(rec.id, alaa)\n",
    "\n",
    "    with open(alout, 'w') as out:\n",
    "        out.write(aaalseq[:-1])\n"
   ]
  },
  {
   "cell_type": "code",
   "execution_count": 13,
   "id": "36686c35",
   "metadata": {},
   "outputs": [],
   "source": [
    "commonpath = '3di/refolded_fullglyco_'"
   ]
  },
  {
   "cell_type": "code",
   "execution_count": 21,
   "id": "6f0f04f1",
   "metadata": {},
   "outputs": [],
   "source": [
    "\n",
    "for g in ['E', 'E1', 'E2']:\n",
    "\n",
    "    aa_3di_convert(commonpath + g + '_aa.fas',\n",
    "                  commonpath + g + '_3di_famsa.fas',\n",
    "                  commonpath + g + '_AA_famsa.fas')"
   ]
  },
  {
   "attachments": {},
   "cell_type": "markdown",
   "id": "fb9ee85b",
   "metadata": {},
   "source": [
    "Use iqtree ModelFinder to get the best model for each alignment:\n",
    "\n",
    "`for f in E1 E2 E; do iqtree2 -nt 24 -s refolded_fullglyco_${f}_AA_famsa.fas -m\n",
    " TESTONLY -mset Blosum62,Dayhoff,DCMut,JTT,JTTDCMut,LG,Poisson,Poisson+FQ,Poisson,PMB,WAG,EX2,EX3,EHO,EX_EHO,3DI -mfreq FU,F -mrate E,G,R; done`\n",
    " \n"
   ]
  },
  {
   "cell_type": "code",
   "execution_count": 18,
   "id": "97c85beb",
   "metadata": {},
   "outputs": [],
   "source": [
    "def aa_3di_comb(al3di, alaa, alout, modelpath):\n",
    "\n",
    "    al3di_dic = SeqIO.to_dict(SeqIO.parse(al3di, 'fasta'))\n",
    "    alaa_dic = SeqIO.to_dict(SeqIO.parse(alaa, 'fasta'))\n",
    "    \n",
    "    #combine the alignments\n",
    "    combfas =  '\\n'.join([ '>%s\\n%s%s'%(x, str(al3di_dic[x].seq), str(alaa_dic[x].seq)) for x in list(alaa_dic)])\n",
    "    \n",
    "    with open(alout, 'w') as out:\n",
    "         out.write(combfas)\n",
    "            \n",
    "    #read modelfinder output\n",
    "    model3di = ''\n",
    "    with open(modelpath + al3di.split('/')[-1] + '.iqtree', 'r', encoding=\"utf-8\") as iqtf:\n",
    "        model3di = [l.replace('Best-fit model according to BIC: ', '') for l in iqtf.readlines() if 'Best-fit model according to BIC: ' in l][0]\n",
    "    modelaa = ''\n",
    "    with open(modelpath + alaa.split('/')[-1] + '.iqtree', 'r', encoding=\"utf-8\") as iqtf:\n",
    "        modelaa = [l.replace('Best-fit model according to BIC: ', '') for l in iqtf.readlines() if 'Best-fit model according to BIC: ' in l][0]\n",
    "    \n",
    "    print('alignment %s has model %s'%(al3di.split('/')[-1], model3di))\n",
    "    print('alignment %s has model %s'%(alaa.split('/')[-1], modelaa))\n",
    "    \n",
    "    #make iqtree partition nexus file\n",
    "    len3di = len(al3di_dic[list(al3di_dic)[0]].seq)\n",
    "    lenaa = len(alaa_dic[list(alaa_dic)[0]].seq)\n",
    "    nxsstr = \"#nexus\\nbegin sets;\\n\\tcharset part1 = 1-%i;\\n\\tcharset part2 = %i-%i;\\n\\tcharpartition mine = %s:part1, %s:part2;\\nend;\"%(len3di, len3di+1, len3di+lenaa, model3di, modelaa)\n",
    "    with open(alout.replace('.fas', '_parts.nex'), 'w') as out:\n",
    "        out.write(nxsstr)\n",
    "        \n",
    "    print('Run as: \\n\\tiqtree2 -nt 22 -s %s -p %s -B 1000'%(alout.split('/')[-1], alout.split('/')[-1].replace('.fas', '_parts.nex')))"
   ]
  },
  {
   "attachments": {},
   "cell_type": "markdown",
   "id": "fb42310d",
   "metadata": {},
   "source": [
    "<br>\n",
    "\n",
    "Full combined alignments:"
   ]
  },
  {
   "cell_type": "code",
   "execution_count": 19,
   "id": "2eb5e0cf",
   "metadata": {},
   "outputs": [
    {
     "name": "stdout",
     "output_type": "stream",
     "text": [
      "alignment refolded_fullglyco_E1_3di_famsa.fas has model 3DI+R5\n",
      "\n",
      "alignment refolded_fullglyco_E1_AA_famsa.fas has model EX_EHO+FU+R7\n",
      "\n",
      "Run as: \n",
      "\tiqtree2 -nt 22 -s refolded_fullglyco_E1_3di_AA_famsa.fas -p refolded_fullglyco_E1_3di_AA_famsa_parts.nex -B 1000\n"
     ]
    }
   ],
   "source": [
    "aa_3di_comb(commonpath + 'E1_3di_famsa.fas', commonpath + 'E1_AA_famsa.fas', commonpath + 'E1_3di_AA_famsa.fas', '3di/bestmodels/')"
   ]
  },
  {
   "cell_type": "code",
   "execution_count": 20,
   "id": "130fa7eb",
   "metadata": {
    "scrolled": true
   },
   "outputs": [
    {
     "name": "stdout",
     "output_type": "stream",
     "text": [
      "alignment refolded_fullglyco_E2_3di_famsa.fas has model 3DI+F+R6\n",
      "\n",
      "alignment refolded_fullglyco_E2_AA_famsa.fas has model WAG+F+R6\n",
      "\n",
      "Run as: \n",
      "\tiqtree2 -nt 22 -s refolded_fullglyco_E2_3di_AA_famsa.fas -p refolded_fullglyco_E2_3di_AA_famsa_parts.nex -B 1000\n"
     ]
    }
   ],
   "source": [
    "aa_3di_comb(commonpath + 'E2_3di_famsa.fas', commonpath + 'E2_AA_famsa.fas', commonpath + 'E2_3di_AA_famsa.fas', '3di/bestmodels/')"
   ]
  },
  {
   "cell_type": "code",
   "execution_count": 21,
   "id": "9a405700",
   "metadata": {
    "scrolled": false
   },
   "outputs": [
    {
     "name": "stdout",
     "output_type": "stream",
     "text": [
      "alignment refolded_fullglyco_E_3di_famsa.fas has model 3DI+F+R6\n",
      "\n",
      "alignment refolded_fullglyco_E_AA_famsa.fas has model EX_EHO+FU+R7\n",
      "\n",
      "Run as: \n",
      "\tiqtree2 -nt 22 -s refolded_fullglyco_E_3di_AA_famsa.fas -p refolded_fullglyco_E_3di_AA_famsa_parts.nex -B 1000\n"
     ]
    }
   ],
   "source": [
    "aa_3di_comb(commonpath + 'E_3di_famsa.fas', commonpath + 'E_AA_famsa.fas', commonpath + 'E_3di_AA_famsa.fas', '3di/bestmodels/')"
   ]
  },
  {
   "attachments": {},
   "cell_type": "markdown",
   "id": "0d3e2ca1",
   "metadata": {},
   "source": [
    "<br>\n",
    "\n",
    "### Alignment trimming\n",
    "\n",
    "Use trimal to make trimmed version of the famsa3di alignment and get numbers of retained columns:\n",
    "\n",
    "`for f in E E1 E2; do trimal -in refolded_fullglyco_${f}_3di_famsa.fas -out refolded_fullglyco_${f}_3di_famsa_trim35.fas -gt 0.35 -colnumbering | tee refolded_fullglyco_${f}_3di_famsa_trim35_cols.txt; done`\n",
    "\n"
   ]
  },
  {
   "cell_type": "code",
   "execution_count": 23,
   "id": "ec8d2c76",
   "metadata": {},
   "outputs": [],
   "source": [
    "def pass_trim(totrimal, cols, outf):\n",
    "        \n",
    "    newtrim = ''\n",
    "    \n",
    "    for rec in SeqIO.parse(totrimal, 'fasta'):\n",
    "        \n",
    "        trimseq = ''.join([str(rec.seq)[i] for i in range(len(rec.seq)) if i in cols])\n",
    "        newtrim = newtrim + '>%s\\n%s\\n'%(rec.id, trimseq)\n",
    "        \n",
    "    with open(outf, 'w') as out:\n",
    "        out.write(newtrim[:-1])\n",
    "\n",
    "\n",
    "Etrim35 = [10, 11, 12, 13, 14, 15, 16, 17, 18, 19, 20, 21, 22, 28, 29, 30, 31, 32, 33, 44, 45, 46, 47, 48, 49, 50, 51, 52, 66, 67, 68, 69, 84, 85, 86, 87, 88, 89, 100, 101, 102, 103, 104, 105, 106, 107, 108, 109, 110, 111, 112, 117, 118, 119, 120, 121, 122, 123, 124, 125, 126, 127, 130, 131, 132, 136, 137, 138, 139, 140, 141, 142, 143, 144, 145, 146, 147, 162, 163, 164, 165, 166, 167, 179, 180, 181, 182, 183, 212, 213, 214, 222, 223, 224, 229, 230, 231, 232, 233, 234, 235, 236, 237, 238, 247, 248, 249, 264, 265, 266, 267, 268, 269, 270, 271, 272, 273, 274, 278, 279, 280, 287, 302, 313, 314, 315, 316, 317, 318, 319, 320, 321, 322, 334, 335, 336, 337, 338, 339, 340, 341, 342, 343, 365, 366, 367, 370, 372, 373, 374, 375, 376, 391, 392, 393, 394, 395, 396, 399, 400, 408, 409, 413, 414, 415, 416, 417, 418, 421, 422, 423, 426, 427, 433, 434, 435, 436, 437, 438, 439, 440, 441, 442, 443, 446, 447, 448, 449, 450, 451, 452, 459, 460, 461, 462, 474, 481, 482, 495, 496, 497, 498, 499, 500, 501, 502, 503, 504, 505, 506, 507, 508, 520, 521, 522, 523, 524, 525, 526, 527, 531, 544, 545, 546, 547, 554, 555, 556, 567, 568, 569, 570, 571, 572, 573, 574, 585, 586, 587, 588, 589, 590, 591, 592, 593, 594, 601, 602, 603, 604, 608, 609, 610, 611, 612, 613, 614, 615, 630, 631, 647, 648, 649, 650, 661, 662, 673, 674, 675, 689, 690, 691, 696, 697, 698, 699, 700, 701, 702, 703, 704, 705, 706, 708, 709, 710, 711, 712, 713, 714, 715, 716, 720, 721, 722, 723, 724, 734, 736, 737, 738, 739, 740, 748, 749, 750, 751, 752, 753, 762, 763, 764, 765, 766, 767, 768, 769, 770, 771, 773, 781, 785, 786, 789, 791, 792, 793, 794, 795, 796, 797, 798, 799, 800, 803, 804, 805, 806, 807, 808, 809, 810, 822, 823, 824, 825, 826, 830, 831, 832, 833, 834, 835, 838, 842, 849, 850, 851, 853, 854, 855, 856, 857, 858, 859, 860, 861, 868, 869, 870, 873, 874, 875, 876, 877, 878, 880, 888, 891, 892, 893, 894, 895, 896, 897, 898, 899, 900, 901, 902, 903, 904, 905, 906, 907, 908, 909, 910, 911, 912, 913, 914, 915, 916, 917, 918, 919, 924, 925, 926, 930, 933, 934, 935, 936, 937, 938, 939, 940, 941, 942, 943, 944, 945, 946, 947, 948, 949, 950, 951, 952, 954, 955, 956, 957, 958, 959, 960, 961, 962, 963, 964, 966, 967, 968, 975, 976, 977, 978, 979, 980, 981, 982, 983, 984, 985, 986, 987, 988, 989, 994, 995, 997, 1000, 1001, 1002, 1003, 1004, 1005, 1006, 1007, 1008, 1009, 1010, 1011, 1012, 1013, 1014, 1015, 1016, 1017, 1018, 1019]\n",
    "pass_trim(commonpath + 'E_AA_famsa.fas', Etrim35, commonpath + 'E_AA_famsa_3ditrim35.fas')\n",
    "\n",
    "E1trim35 = [37, 38, 39, 40, 41, 42, 43, 44, 57, 58, 59, 60, 61, 62, 63, 64, 65, 66, 67, 68, 69, 70, 71, 72, 73, 74, 78, 79, 80, 81, 82, 83, 84, 85, 86, 87, 88, 89, 90, 91, 93, 94, 95, 104, 105, 106, 107, 108, 109, 110, 111, 112, 113, 114, 115, 116, 117, 124, 125, 126, 127, 132, 133, 134, 135, 136, 137, 138, 139, 140, 141, 142, 143, 144, 145, 146, 147, 148, 149, 150, 151, 152, 153, 154, 155, 156, 157, 158, 159, 160, 161, 162, 163, 164, 165, 166, 167, 168, 169, 170, 171, 172, 180, 181, 191, 192, 193, 194, 195, 196, 197, 198, 199, 202, 203, 204, 205, 206, 207, 208, 209, 210, 211, 222, 223, 224, 225, 234, 235, 236, 237, 238, 239, 240, 241, 242, 243, 244, 245, 252, 253, 254, 255, 256, 257, 258, 259, 260, 261, 262, 263, 264, 265, 266, 267, 268, 269, 270, 271, 272, 273, 274, 275, 276, 277, 278, 279, 280, 281, 282, 283, 284, 285, 286, 287, 288, 289, 290, 291, 292, 293, 294, 295, 296, 297, 298, 299, 300, 301, 302, 303, 304, 305, 306, 307]\n",
    "pass_trim(commonpath + 'E1_AA_famsa.fas', E1trim35, commonpath + 'E1_AA_famsa_3ditrim35.fas')\n",
    "\n",
    "E2trim35 = [56, 57, 58, 59, 60, 61, 62, 63, 64, 65, 66, 69, 70, 71, 72, 73, 74, 79, 80, 81, 82, 83, 84, 87, 88, 91, 92, 93, 101, 102, 103, 104, 105, 106, 107, 108, 109, 110, 111, 132, 133, 134, 135, 136, 137, 138, 154, 168, 176, 179, 180, 183, 184, 185, 186, 198, 199, 206, 207, 212, 213, 214, 215, 216, 217, 218, 233, 245, 246, 251, 252, 257, 258, 259, 262, 263, 264, 265, 266, 280, 281, 295, 296, 297, 301, 302, 303, 304, 305, 334, 335, 336, 341, 343, 344, 345, 346, 353, 354, 355, 360, 367, 368, 387, 388, 389, 390, 391, 392, 393, 394, 418, 419, 431, 432, 433, 434, 435, 460, 461, 465, 466, 467, 475, 478, 479, 480, 481, 489, 490, 491, 492, 504, 508, 509, 510, 516, 517, 518, 519, 520, 521, 522, 523, 524, 526, 537, 538, 547, 548, 549, 550, 551, 552, 553, 554, 555, 556, 557, 558, 559, 560, 561, 568, 571, 572, 573, 577, 578, 579, 580, 597, 598, 599, 600, 605, 606, 607, 608, 609, 622, 623, 634, 648, 649, 650, 651, 662, 669, 670, 671, 672, 673, 676, 686, 688, 689, 705, 706, 707, 708, 711, 712, 713, 721, 722, 723, 724, 725, 726, 728, 729, 735, 736, 737, 738, 739, 740, 745, 746, 752, 753, 754, 768, 776, 777, 779, 780, 781, 783, 789, 790, 791, 792, 793, 794, 795, 796, 805, 819, 820, 821, 822, 823, 846, 847, 848, 849, 850, 851, 852, 856, 857, 858, 862, 863, 864, 865, 866, 867, 868, 869, 870, 871, 872, 878, 879, 880, 881, 882, 883, 884, 885, 889, 890, 891, 893, 894, 895, 896, 910, 911, 912, 913, 914, 917, 918, 919, 920, 921, 922, 923, 924, 925, 926, 927, 928, 929, 930, 931, 932, 933, 934, 935, 936, 937, 938, 939, 940, 941, 942, 943, 944, 945, 946, 947, 948, 949, 950, 951, 952, 953, 954, 955, 956, 957, 958, 959, 960]\n",
    "pass_trim(commonpath + 'E2_AA_famsa.fas', E2trim35, commonpath + 'E2_AA_famsa_3ditrim35.fas')\n"
   ]
  },
  {
   "attachments": {},
   "cell_type": "markdown",
   "id": "3487c033",
   "metadata": {},
   "source": [
    "<br>\n",
    "\n",
    "Trim35 combined alignments (AA trims identical to 3di trims):"
   ]
  },
  {
   "cell_type": "code",
   "execution_count": 22,
   "id": "901895d8",
   "metadata": {},
   "outputs": [
    {
     "name": "stdout",
     "output_type": "stream",
     "text": [
      "alignment refolded_fullglyco_E1_3di_famsa_trim35.fas has model 3DI+R5\n",
      "\n",
      "alignment refolded_fullglyco_E1_AA_famsa_3ditrim35.fas has model EX_EHO+FU+R7\n",
      "\n",
      "Run as: \n",
      "\tiqtree2 -nt 22 -s refolded_fullglyco_E1_3di_t35_AA_3dit35_famsa.fas -p refolded_fullglyco_E1_3di_t35_AA_3dit35_famsa_parts.nex -B 1000\n"
     ]
    }
   ],
   "source": [
    "aa_3di_comb(commonpath + 'E1_3di_famsa_trim35.fas', commonpath + 'E1_AA_famsa_3ditrim35.fas', commonpath + 'E1_3di_t35_AA_3dit35_famsa.fas', '3di/bestmodels/')"
   ]
  },
  {
   "cell_type": "code",
   "execution_count": 23,
   "id": "f3904ec4",
   "metadata": {
    "scrolled": true
   },
   "outputs": [
    {
     "name": "stdout",
     "output_type": "stream",
     "text": [
      "alignment refolded_fullglyco_E2_3di_famsa_trim35.fas has model 3DI+F+R6\n",
      "\n",
      "alignment refolded_fullglyco_E2_AA_famsa_3ditrim35.fas has model WAG+F+R6\n",
      "\n",
      "Run as: \n",
      "\tiqtree2 -nt 22 -s refolded_fullglyco_E2_3di_t35_AA_3dit35_famsa.fas -p refolded_fullglyco_E2_3di_t35_AA_3dit35_famsa_parts.nex -B 1000\n"
     ]
    }
   ],
   "source": [
    "aa_3di_comb(commonpath + 'E2_3di_famsa_trim35.fas', commonpath + 'E2_AA_famsa_3ditrim35.fas', commonpath + 'E2_3di_t35_AA_3dit35_famsa.fas', '3di/bestmodels/')"
   ]
  },
  {
   "cell_type": "code",
   "execution_count": 24,
   "id": "03dda80f",
   "metadata": {
    "scrolled": true
   },
   "outputs": [
    {
     "name": "stdout",
     "output_type": "stream",
     "text": [
      "alignment refolded_fullglyco_E_3di_famsa_trim35.fas has model 3DI+F+R6\n",
      "\n",
      "alignment refolded_fullglyco_E_AA_famsa_3ditrim35.fas has model EX_EHO+FU+R8\n",
      "\n",
      "Run as: \n",
      "\tiqtree2 -nt 22 -s refolded_fullglyco_E_3di_t35_AA_3dit35_famsa.fas -p refolded_fullglyco_E_3di_t35_AA_3dit35_famsa_parts.nex -B 1000\n"
     ]
    }
   ],
   "source": [
    "aa_3di_comb(commonpath + 'E_3di_famsa_trim35.fas', commonpath + 'E_AA_famsa_3ditrim35.fas', commonpath + 'E_3di_t35_AA_3dit35_famsa.fas', '3di/bestmodels/')"
   ]
  },
  {
   "attachments": {},
   "cell_type": "markdown",
   "id": "060e0e0a",
   "metadata": {},
   "source": [
    "<br>\n",
    "\n",
    "Finally make trees using the best substitution model for each `refolded_fullglyco_` `_3di_famsa.fas` and `_AA_famsa.fas` alignment as well as their trimmed versions \n",
    "\n",
    "All final tree inferences in `fn_3di_trees`"
   ]
  },
  {
   "attachments": {},
   "cell_type": "markdown",
   "id": "364f3045",
   "metadata": {},
   "source": [
    "<br>\n",
    "\n",
    "<br>\n",
    "\n",
    "## Test the contribution of each partition to 3di+AA trees:\n",
    "\n",
    "`iqtree2 -nt 20 -s refolded_fullglyco_E_3di_AA_famsa.fas -p refolded_fullglyco_E_3di_AA_famsa_parts.nex -z refolded_fullglyco_E_3di_AA_famsa_parts.nex.treefile -n 0 -wpl --prefix refolded_fullglyco_E_3di_AA_famsa_wpl`\n",
    "\n",
    "repeat for E1 and E2\n"
   ]
  },
  {
   "cell_type": "code",
   "execution_count": 69,
   "id": "e06ab49a",
   "metadata": {},
   "outputs": [
    {
     "data": {
      "text/html": [
       "<div>\n",
       "<style scoped>\n",
       "    .dataframe tbody tr th:only-of-type {\n",
       "        vertical-align: middle;\n",
       "    }\n",
       "\n",
       "    .dataframe tbody tr th {\n",
       "        vertical-align: top;\n",
       "    }\n",
       "\n",
       "    .dataframe thead th {\n",
       "        text-align: right;\n",
       "    }\n",
       "</style>\n",
       "<table border=\"1\" class=\"dataframe\">\n",
       "  <thead>\n",
       "    <tr style=\"text-align: right;\">\n",
       "      <th></th>\n",
       "      <th>file</th>\n",
       "      <th>LogL_3di</th>\n",
       "      <th>LogL_AA</th>\n",
       "      <th>LogL_diff</th>\n",
       "    </tr>\n",
       "  </thead>\n",
       "  <tbody>\n",
       "    <tr>\n",
       "      <th>0</th>\n",
       "      <td>refolded_fullglyco_E1_3di_AA_famsa</td>\n",
       "      <td>-29638.0</td>\n",
       "      <td>-46320.8</td>\n",
       "      <td>16682.8</td>\n",
       "    </tr>\n",
       "    <tr>\n",
       "      <th>1</th>\n",
       "      <td>refolded_fullglyco_E1_3di_t35_AA_3dit35_famsa</td>\n",
       "      <td>-27824.5</td>\n",
       "      <td>-44307.7</td>\n",
       "      <td>16483.2</td>\n",
       "    </tr>\n",
       "    <tr>\n",
       "      <th>2</th>\n",
       "      <td>refolded_fullglyco_E2_3di_AA_famsa</td>\n",
       "      <td>-71642.1</td>\n",
       "      <td>-89190.8</td>\n",
       "      <td>17548.7</td>\n",
       "    </tr>\n",
       "    <tr>\n",
       "      <th>3</th>\n",
       "      <td>refolded_fullglyco_E2_3di_t35_AA_3dit35_famsa</td>\n",
       "      <td>-58443.2</td>\n",
       "      <td>-73415.9</td>\n",
       "      <td>14972.7</td>\n",
       "    </tr>\n",
       "    <tr>\n",
       "      <th>4</th>\n",
       "      <td>refolded_fullglyco_E_3di_AA_famsa</td>\n",
       "      <td>-99213.8</td>\n",
       "      <td>-132696.0</td>\n",
       "      <td>33482.2</td>\n",
       "    </tr>\n",
       "    <tr>\n",
       "      <th>5</th>\n",
       "      <td>refolded_fullglyco_E_3di_t35_AA_3dit35_famsa</td>\n",
       "      <td>-91259.1</td>\n",
       "      <td>-124080.0</td>\n",
       "      <td>32820.9</td>\n",
       "    </tr>\n",
       "  </tbody>\n",
       "</table>\n",
       "</div>"
      ],
      "text/plain": [
       "                                            file  LogL_3di   LogL_AA  \\\n",
       "0             refolded_fullglyco_E1_3di_AA_famsa  -29638.0  -46320.8   \n",
       "1  refolded_fullglyco_E1_3di_t35_AA_3dit35_famsa  -27824.5  -44307.7   \n",
       "2             refolded_fullglyco_E2_3di_AA_famsa  -71642.1  -89190.8   \n",
       "3  refolded_fullglyco_E2_3di_t35_AA_3dit35_famsa  -58443.2  -73415.9   \n",
       "4              refolded_fullglyco_E_3di_AA_famsa  -99213.8 -132696.0   \n",
       "5   refolded_fullglyco_E_3di_t35_AA_3dit35_famsa  -91259.1 -124080.0   \n",
       "\n",
       "   LogL_diff  \n",
       "0    16682.8  \n",
       "1    16483.2  \n",
       "2    17548.7  \n",
       "3    14972.7  \n",
       "4    33482.2  \n",
       "5    32820.9  "
      ]
     },
     "execution_count": 69,
     "metadata": {},
     "output_type": "execute_result"
    }
   ],
   "source": [
    "partlhrez = []\n",
    "for f in [x for x in os.listdir(\"3di/partition_LogL/\") if '.partlh' in x]:\n",
    "    with open(\"3di/partition_LogL/\" + f, 'r') as infile:\n",
    "        for l in infile.readlines():\n",
    "            if 'Tree' in l:\n",
    "                l = l.replace('\\n', '')\n",
    "                l = l.split(' ')\n",
    "                partlhrez.append([f.split('_wpl')[0], float(l[-2]), float(l[-1])])\n",
    "\n",
    "partlh_df = pd.DataFrame(partlhrez)\n",
    "partlh_df.columns = ['file', 'LogL_3di', 'LogL_AA']\n",
    "partlh_df['LogL_diff'] = partlh_df['LogL_3di'] - partlh_df['LogL_AA']\n",
    "partlh_df.to_csv('3di/partition_LogL/partition_LogL_diff.csv', index=False)\n",
    "\n",
    "partlh_df"
   ]
  },
  {
   "attachments": {},
   "cell_type": "markdown",
   "id": "6def2775",
   "metadata": {},
   "source": [
    "<br>\n",
    "\n",
    "<br>\n",
    "\n",
    "## Make clade consensus sequence alignments"
   ]
  },
  {
   "cell_type": "code",
   "execution_count": 28,
   "id": "1629096a",
   "metadata": {},
   "outputs": [],
   "source": [
    "def consensus(seqdic):\n",
    "    conseq = ''\n",
    "    for i in range(len(seqdic[list(seqdic)[0]])):\n",
    "        thissite = []\n",
    "        for rec in list(seqdic):\n",
    "            thissite.append(seqdic[rec].seq[i])\n",
    "    #     print(thissite)\n",
    "        mostfreqsite = max(set(thissite), key = thissite.count)\n",
    "        conseq = conseq + mostfreqsite\n",
    "        \n",
    "    return conseq"
   ]
  },
  {
   "cell_type": "code",
   "execution_count": 29,
   "id": "50b73e7f",
   "metadata": {},
   "outputs": [],
   "source": [
    "e1_fn_aldic = SeqIO.to_dict(SeqIO.parse('3di/refolded_fullglyco_E1_AA_famsa.fas', 'fasta'))\n",
    "\n",
    "fasta = ''\n",
    "for clad in ['HPPV', 'HPHV', 'PLPV']:\n",
    "    fasta = fasta + '>%s|E1\\n%s\\n'%(clad, consensus({x:e1_fn_aldic[x] for x in list(e1_fn_aldic) if clad in x}))\n",
    "\n",
    "with open('3di/consensus_al/refolded_fullglyco_E1_AA_famsa_clad_consensus.fas', 'w') as out:\n",
    "    out.write(fasta[:-1])\n"
   ]
  },
  {
   "cell_type": "code",
   "execution_count": 30,
   "id": "93c26b34",
   "metadata": {},
   "outputs": [],
   "source": [
    "e2_fn_aldic = SeqIO.to_dict(SeqIO.parse('3di/refolded_fullglyco_E2_AA_famsa.fas', 'fasta'))\n",
    "\n",
    "fasta = ''\n",
    "for clad in ['HPPV', 'HPHV', 'PLPV']:\n",
    "    fasta = fasta + '>%s|E2\\n%s\\n'%(clad, consensus({x:e2_fn_aldic[x] for x in list(e2_fn_aldic) if clad in x}))\n",
    "\n",
    "with open('3di/consensus_al/refolded_fullglyco_E2_AA_famsa_clad_consensus.fas', 'w') as out:\n",
    "    out.write(fasta[:-1])"
   ]
  },
  {
   "cell_type": "code",
   "execution_count": 31,
   "id": "f0f98b16",
   "metadata": {},
   "outputs": [],
   "source": [
    "e_fn_aldic = SeqIO.to_dict(SeqIO.parse('3di/refolded_fullglyco_E_AA_famsa.fas', 'fasta'))\n",
    "\n",
    "set([x[:4] for x in list(e_fn_aldic)])\n",
    "\n",
    "\n",
    "fasta = ''\n",
    "for clad in [ ['FJAF','FJFL','FJIS','FJMB','FJNV','FJTB','FJUN'], 'FJJI', 'PLLG', 'PLUN']:\n",
    "    if type(clad) != list:\n",
    "        fasta = fasta + '>%s|E\\n%s\\n'%(clad, consensus({x:e_fn_aldic[x] for x in list(e_fn_aldic) if clad in x}))\n",
    "#         print(fasta)\n",
    "    else:\n",
    "        fasta = fasta + '>%s|E\\n%s\\n'%('FJortho', consensus({x:e_fn_aldic[x] for x in list(e_fn_aldic) if x[:4] in clad}))\n",
    "#         print(fasta)\n",
    "\n",
    "with open('3di/consensus_al/refolded_fullglyco_E_AA_famsa_clad_consensus.fas', 'w') as out:\n",
    "    out.write(fasta[:-1])\n"
   ]
  }
 ],
 "metadata": {
  "kernelspec": {
   "display_name": "Python 3 (ipykernel)",
   "language": "python",
   "name": "python3"
  },
  "language_info": {
   "codemirror_mode": {
    "name": "ipython",
    "version": 3
   },
   "file_extension": ".py",
   "mimetype": "text/x-python",
   "name": "python",
   "nbconvert_exporter": "python",
   "pygments_lexer": "ipython3",
   "version": "3.11.5"
  }
 },
 "nbformat": 4,
 "nbformat_minor": 5
}
